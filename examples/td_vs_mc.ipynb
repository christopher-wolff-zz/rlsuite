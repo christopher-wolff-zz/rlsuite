{
 "cells": [
  {
   "cell_type": "markdown",
   "metadata": {},
   "source": [
    "# Temporal Difference vs. Monte Carlo Learning\n",
    "\n",
    "Temporal difference (TD) and Monte Carlo (MC) methods appears all over the place in reinforcement learning (RL). While they could seemingly not be more different, they really represent two sides of the same coin. This notebook will explore the commonalities and differences between these two approaches to RL and compare them on a simple prediction task.\n",
    "\n",
    "## Introduction\n",
    "\n",
    "Both TD-learning and MC-learning are really moreso paradigms or ideas than algorithms. For demonstration purposes, we will use two algorithms called TD-prediction and MC-prediction, though there are many other algorithms based on the same ideas. In both cases, the task is simple: we are in an environment and given some policy $\\pi$. Our goal is to find or estimate the so-called value function $v_{\\pi}$. This function represents the expected cumulative discounted reward that the agent will receive when starting in that state and taking actions following $\\pi$.\n",
    "\n",
    "$$\n",
    "v_{\\pi}(s) = \\mathbb{E}_{\\pi}\\left[\\sum_{k=0}^{\\infty}\\gamma^k R_{t+1+k} \\mid S_t = s\\right]\n",
    "$$\n",
    "\n",
    "We can rewrite the equation above slightly to obtain a recursive relationship between successive states.\n",
    "\n",
    "$$\n",
    "v_{\\pi}(s) = \\mathbb{E}_{\\pi}\\left[R_{t+1} + \\gamma v_{\\pi}(S') \\mid S_t = s\\right]\n",
    "$$\n",
    "\n",
    "This is also known as (one of) the Bellman equation(s), and will turn out to be very useful in a second.\n",
    "\n",
    "### TD-Prediction\n",
    "\n",
    "The basic idea behind TD-prediction is simple. We start with some random estimate of the value function $\\hat{v}_{\\pi}$ with parameters $\\theta$. While acting according to our policy, we then observe states, actions, and rewards, and use those to perform the following update.\n",
    "\n",
    "$$\n",
    "\\theta \\leftarrow \\theta + \\alpha \\left[ R + \\gamma \\hat{v}_{\\pi}(S') - \\hat{v}_{\\pi}(S) \\right] \\nabla \\hat{v}_{\\pi}(S)\n",
    "$$\n",
    "\n",
    "where the gradient is taken with respect to $\\theta$. The variable $\\alpha$ is called the *learning rate* and is just some small constant here, though it is not uncommon to decay it over time. This update attempts to narrow the difference between a states value and the *target* $R_{t+1} + \\gamma v_{\\pi}(S')$ at every step. Over time, the differences get smaller and smaller, and it is easy to see that the fixed point of these updates satisfies the Bellman equation from earlier! If reached, this would mean that we found the true value function.\n",
    "\n",
    "Using Python and TensorFlow 2.0, we can implement this as follows. `policy` is a `tf.keras.Model` object that was assume to be given.\n",
    "\n",
    "```python\n",
    "for i in range(num_episodes):\n",
    "    state = env.reset().reshape(1, -1)\n",
    "    done = False\n",
    "    while not done:\n",
    "        action = np.random.choice(num_actions, p=policy(state))\n",
    "        next_state, reward, done, _ = env.step(action)\n",
    "        next_state = next_state.reshape(1, -1)\n",
    "\n",
    "        # Compute TD error\n",
    "        if done:\n",
    "            target = reward\n",
    "        else:\n",
    "            target = reward + gamma * value_fn(next_state)\n",
    "        delta = target - value_fn(state)\n",
    "\n",
    "        # Compute gradient\n",
    "        weights = value_fn.trainable_weights\n",
    "        with tf.GradientTape() as tape:\n",
    "            value = value_fn(state)\n",
    "        grads = tape.gradient(value, weights)\n",
    "\n",
    "        # Update weights\n",
    "        for w, g in zip(weights, grads):\n",
    "            dw = tf.reshape(alpha * delta * g, w.shape)\n",
    "            w.assign_add(dw)\n",
    "\n",
    "        state = next_state\n",
    "```\n",
    "\n",
    "A full version can be found [here](https://github.com/christopher-wolff/rlsuite/blob/master/rlsuite/algos/semi_gradient_td_prediction.py).\n",
    "\n",
    "### MC-Prediction\n",
    "\n",
    "MC-prediction takes a different approach to the problem. Typically, updates are done on an episode-by-episode basis. We roll out an episode following $\\pi$, and then compute the return $G_t$ at every time step as\n",
    "\n",
    "$$\n",
    "G_t = \\sum_{k=0}^{\\infty}\\gamma^k R_{t+1+k}\n",
    "$$\n",
    "\n",
    "Recall this quantity from the definition of the value function earlier. The algorithm is shown as pythonic pseudo-code below. Then, we use the return to perform the update\n",
    "\n",
    "$$\n",
    "\\theta \\leftarrow \\theta + \\alpha \\left[ G_t - \\hat{v}_{\\pi}(S) \\right] \\nabla \\hat{v}_{\\pi}(S)\n",
    "$$\n",
    "\n",
    "This looks similar to the TD update above! And it is exactly equivalent to averaging the observed returns, as long as we start with values of 0 and decay $\\alpha$ according to $\\alpha_t = \\frac{1}{t}$. The corresponding Python code is shown below and a full version can be found [here](https://github.com/christopher-wolff/rlsuite/blob/master/rlsuite/algos/gradient_mc_prediction.py).\n",
    "\n",
    "```python\n",
    "for i in range(num_episodes):\n",
    "    # Roll out an episode\n",
    "    experience = []\n",
    "    state = env.reset()\n",
    "    done = False\n",
    "    while not done:\n",
    "        action = np.random.choice(num_actions, p=policy(state))\n",
    "        next_state, reward, done, _ = env.step(action)\n",
    "        experience.append((state, reward))\n",
    "        state = next_state\n",
    "\n",
    "    G = 0\n",
    "    for state, reward in reversed(experience):\n",
    "        # Convert state to one-element batch\n",
    "        state = state.reshape(1, -1)\n",
    "\n",
    "        # Compute return\n",
    "        G = gamma * G + reward\n",
    "\n",
    "        # Compute gradient\n",
    "        weights = value_fn.trainable_weights\n",
    "        with tf.GradientTape() as tape:\n",
    "            value = value_fn(state)\n",
    "        grads = tape.gradient(value, weights)\n",
    "\n",
    "        # Update weights\n",
    "        for w, g in zip(weights, grads):\n",
    "            dw = tf.reshape(alpha * (G - value) * g, w.shape)\n",
    "            w.assign_add(dw)\n",
    "```\n",
    "\n",
    "## Experiments\n",
    "\n",
    "To see some of the differences between the two algorithms, we will conduct a simple experiment. The task is the following: the agent starts in the middle of a corridor, where it can move to the left and right. If it goes to the left, it will eventually reach the end, causing the episode to terminate with a total reward of $0$. If it goes to the right, the episode will also terminate, but in the final state it will achieve a reward of $+1$. The task is *undiscounted*, that is $\\gamma = 1$.\n",
    "\n",
    "<img src=\"imgs/random_walk.png\" style=\"width: 500px\"/>\n",
    "\n",
    "<center>Image credit: Sutton & Barto (2018)</center>\n",
    "\n",
    "The agent itself acts completely at random, choosing either action with equal probability. Instead of the five states shown in the figure above, we will use a slightly longer corridor of 15 states. Each observation in this environment is just a one-hot vector indicating the current state. That is, a vector of the same length as the state space, with a 1 at the index of the current state and zeros elsewhere. We start with TD-prediction."
   ]
  },
  {
   "cell_type": "code",
   "execution_count": 1,
   "metadata": {},
   "outputs": [],
   "source": [
    "import gym\n",
    "import numpy as np\n",
    "import tensorflow as tf\n",
    "from gym.envs.registration import register\n",
    "\n",
    "from rlsuite.algos import semi_gradient_td_prediction\n",
    "from rlsuite.algos import gradient_mc_prediction\n",
    "from rlsuite.envs import random_walk"
   ]
  },
  {
   "cell_type": "code",
   "execution_count": 2,
   "metadata": {},
   "outputs": [],
   "source": [
    "ENV = 'RandomWalk-v1'\n",
    "NUM_STATES = 5\n",
    "NUM_EPISODES = 1000\n",
    "ALPHA = 0.1\n",
    "GAMMA = 1\n",
    "SEED = 0\n",
    "\n",
    "register(\n",
    "    id='RandomWalk-v1',\n",
    "    entry_point='rlsuite.envs.random_walk.random_walk:RandomWalk',\n",
    "    kwargs={'num_states': NUM_STATES},\n",
    "    max_episode_steps=50,\n",
    ")\n",
    "random_policy = lambda *args, **kwargs: [0.5, 0.5]"
   ]
  },
  {
   "cell_type": "code",
   "execution_count": 4,
   "metadata": {},
   "outputs": [],
   "source": [
    "td_value_fn = semi_gradient_td_prediction(\n",
    "    env_fn=lambda: gym.make(ENV),\n",
    "    policy=random_policy,\n",
    "    value_fn=tf.keras.Sequential([\n",
    "        tf.keras.layers.Dense(1, input_shape=(NUM_STATES+2,), activation='linear'),\n",
    "    ]),\n",
    "    alpha=ALPHA,\n",
    "    gamma=GAMMA,\n",
    "    num_episodes=NUM_EPISODES,\n",
    "    data_dir='/tmp/tests/random_walk_td',\n",
    "    seed=SEED,\n",
    ")"
   ]
  },
  {
   "cell_type": "markdown",
   "metadata": {},
   "source": [
    "Note that the input to our value function requires `NUM_STATES + 2` numbers. These extra states are the goal states on the far left and far right of the corridor."
   ]
  },
  {
   "cell_type": "code",
   "execution_count": 6,
   "metadata": {},
   "outputs": [],
   "source": [
    "mc_value_fn = gradient_mc_prediction(\n",
    "    env_fn=lambda: gym.make(ENV),\n",
    "    policy=random_policy,\n",
    "    value_fn=tf.keras.Sequential([\n",
    "        tf.keras.layers.Dense(1, input_shape=(NUM_STATES+2,), activation='linear'),\n",
    "    ]),\n",
    "    alpha=ALPHA,\n",
    "    gamma=GAMMA,\n",
    "    num_episodes=NUM_EPISODES,\n",
    "    data_dir='/tmp/tests/random_walk_mc',\n",
    "    seed=SEED,\n",
    ")"
   ]
  },
  {
   "cell_type": "markdown",
   "metadata": {},
   "source": [
    "To visualize the results, we will take a look at the final policies. We also compare them to the true policy, which can quite easily be computed explicitely using some probability theory. It should be easy to see that without discounting, the center state has value 0.5. The left- and right-most states have probabilities 0 and 1, respectively, and it turns out that the true value function is linear with respect to the state number."
   ]
  },
  {
   "cell_type": "code",
   "execution_count": 10,
   "metadata": {},
   "outputs": [],
   "source": [
    "import matplotlib.pyplot as plt\n",
    "import seaborn as sns\n",
    "\n",
    "def get_value(state, value_fn):\n",
    "    obs = np.zeros(NUM_STATES + 2)\n",
    "    obs[state] = 1\n",
    "    return value_fn(obs.reshape(1, -1)).numpy().item()\n",
    "\n",
    "states = range(NUM_STATES + 2)\n",
    "td_values = np.array([get_value(state, td_value_fn) for state in states])\n",
    "mc_values = np.array([get_value(state, mc_value_fn) for state in states])\n",
    "true_values = np.linspace(0, 1, NUM_STATES + 2)"
   ]
  },
  {
   "cell_type": "code",
   "execution_count": 11,
   "metadata": {},
   "outputs": [
    {
     "data": {
      "image/png": "[encoded data removed]",
      "text/plain": [
       "<Figure size 864x432 with 1 Axes>"
      ]
     },
     "metadata": {},
     "output_type": "display_data"
    }
   ],
   "source": [
    "sns.set(style=\"whitegrid\", font_scale=1.5)\n",
    "plt.figure(figsize=(12, 6))\n",
    "plt.plot(states, td_values, 'b-', states, mc_values, 'r-', states, true_values, 'g--')\n",
    "plt.title('TD Random Walk Value Function')\n",
    "plt.xlabel('State')\n",
    "plt.ylabel('Value')\n",
    "plt.show()"
   ]
  },
  {
   "cell_type": "markdown",
   "metadata": {},
   "source": [
    "TODO: Discussion of results, plot of RMS error vs. iteration"
   ]
  },
  {
   "cell_type": "markdown",
   "metadata": {},
   "source": [
    "## Conclusion\n",
    "\n",
    "TODO: Discussion of tradeoffs"
   ]
  },
  {
   "cell_type": "code",
   "execution_count": null,
   "metadata": {},
   "outputs": [],
   "source": []
  }
 ],
 "metadata": {
  "kernelspec": {
   "display_name": "rlsuite",
   "language": "python",
   "name": "rlsuite"
  },
  "language_info": {
   "codemirror_mode": {
    "name": "ipython",
    "version": 3
   },
   "file_extension": ".py",
   "mimetype": "text/x-python",
   "name": "python",
   "nbconvert_exporter": "python",
   "pygments_lexer": "ipython3",
   "version": "3.7.2"
  }
 },
 "nbformat": 4,
 "nbformat_minor": 2
}
